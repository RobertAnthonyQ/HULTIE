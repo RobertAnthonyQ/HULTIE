{
 "cells": [
  {
   "cell_type": "code",
   "metadata": {
    "ExecuteTime": {
     "end_time": "2025-01-03T18:43:55.988834Z",
     "start_time": "2025-01-03T18:43:49.435413Z"
    }
   },
   "source": [
    "%pip install pytest\n",
    "%pip install nest_asyncio\n",
    "%pip install python-dotenv\n"
   ],
   "outputs": [
    {
     "name": "stdout",
     "output_type": "stream",
     "text": [
      "Requirement already satisfied: pytest in c:\\users\\diego\\pycharmprojects\\hultiechatbot\\.venv\\lib\\site-packages (8.3.4)\n",
      "Requirement already satisfied: colorama in c:\\users\\diego\\pycharmprojects\\hultiechatbot\\.venv\\lib\\site-packages (from pytest) (0.4.6)\n",
      "Requirement already satisfied: iniconfig in c:\\users\\diego\\pycharmprojects\\hultiechatbot\\.venv\\lib\\site-packages (from pytest) (2.0.0)\n",
      "Requirement already satisfied: packaging in c:\\users\\diego\\pycharmprojects\\hultiechatbot\\.venv\\lib\\site-packages (from pytest) (24.2)\n",
      "Requirement already satisfied: pluggy<2,>=1.5 in c:\\users\\diego\\pycharmprojects\\hultiechatbot\\.venv\\lib\\site-packages (from pytest) (1.5.0)\n",
      "Note: you may need to restart the kernel to use updated packages.\n"
     ]
    },
    {
     "name": "stderr",
     "output_type": "stream",
     "text": [
      "\n",
      "[notice] A new release of pip is available: 23.2.1 -> 24.3.1\n",
      "[notice] To update, run: python.exe -m pip install --upgrade pip\n"
     ]
    },
    {
     "name": "stdout",
     "output_type": "stream",
     "text": [
      "Requirement already satisfied: nest_asyncio in c:\\users\\diego\\pycharmprojects\\hultiechatbot\\.venv\\lib\\site-packages (1.6.0)\n",
      "Note: you may need to restart the kernel to use updated packages.\n"
     ]
    },
    {
     "name": "stderr",
     "output_type": "stream",
     "text": [
      "\n",
      "[notice] A new release of pip is available: 23.2.1 -> 24.3.1\n",
      "[notice] To update, run: python.exe -m pip install --upgrade pip\n"
     ]
    },
    {
     "name": "stdout",
     "output_type": "stream",
     "text": [
      "Requirement already satisfied: python-dotenv in c:\\users\\diego\\pycharmprojects\\hultiechatbot\\.venv\\lib\\site-packages (1.0.1)\n",
      "Note: you may need to restart the kernel to use updated packages.\n"
     ]
    },
    {
     "name": "stderr",
     "output_type": "stream",
     "text": [
      "\n",
      "[notice] A new release of pip is available: 23.2.1 -> 24.3.1\n",
      "[notice] To update, run: python.exe -m pip install --upgrade pip\n"
     ]
    }
   ],
   "execution_count": 1
  },
  {
   "cell_type": "code",
   "metadata": {
    "ExecuteTime": {
     "end_time": "2025-01-03T18:44:36.507387Z",
     "start_time": "2025-01-03T18:44:36.503107Z"
    }
   },
   "source": [
    "# Celda 1: Configuración de paths\n",
    "import os\n",
    "import sys\n",
    "\n",
    "notebook_path = os.path.abspath(os.getcwd())\n",
    "project_root = os.path.dirname(os.path.dirname(notebook_path))\n",
    "sys.path = list(dict.fromkeys(sys.path))\n",
    "\n",
    "if project_root not in sys.path:\n",
    "    sys.path.insert(0, project_root)\n",
    "\n",
    "# Celda 2: Importaciones\n",
    "import pytest\n",
    "import asyncio\n",
    "import nest_asyncio\n",
    "from dotenv import load_dotenv\n",
    "# Cambiar estas importaciones\n",
    "from src.services.evolution_service import EvolutionAPI\n",
    "from src.constants.config import SEDES_CONFIG, STICKERS"
   ],
   "outputs": [],
   "execution_count": 2
  },
  {
   "cell_type": "code",
   "metadata": {
    "ExecuteTime": {
     "end_time": "2025-01-03T18:44:43.858040Z",
     "start_time": "2025-01-03T18:44:43.852162Z"
    }
   },
   "source": [
    "\n",
    "nest_asyncio.apply()\n",
    "# Cargar variables de entorno\n",
    "load_dotenv()\n",
    "\n",
    "# Verificar que las variables de entorno estén cargadas\n",
    "required_vars = [\n",
    "    \"EVOLUTION_API_URL\",\n",
    "    \"EVOLUTION_INSTANCE\",\n",
    "    \"EVOLUTION_API_KEY\"\n",
    "]\n",
    "\n",
    "for var in required_vars:\n",
    "    if not os.getenv(var):\n",
    "        raise ValueError(f\"Falta variable de entorno: {var}\")"
   ],
   "outputs": [],
   "execution_count": 3
  },
  {
   "cell_type": "code",
   "metadata": {
    "ExecuteTime": {
     "end_time": "2025-01-03T18:47:38.939583Z",
     "start_time": "2025-01-03T18:47:38.936078Z"
    }
   },
   "source": [
    "# Celda 4: Configuración de prueba\n",
    "TEST_PHONE_NUMBER = \"51932607107\"\n",
    "\n",
    "# Inicializar API\n",
    "api = EvolutionAPI()"
   ],
   "outputs": [],
   "execution_count": 16
  },
  {
   "cell_type": "code",
   "metadata": {
    "ExecuteTime": {
     "end_time": "2025-01-03T18:47:40.213449Z",
     "start_time": "2025-01-03T18:47:39.616723Z"
    }
   },
   "source": [
    "async def test_text():\n",
    "    \"\"\"Prueba el envío de mensaje de texto\"\"\"\n",
    "    api = EvolutionAPI()\n",
    "    return await api.send_text(\n",
    "        \n",
    "        TEST_PHONE_NUMBER, \n",
    "        \"\"\"\n",
    "        She said, \"Hola, ¿cómo está'?\"\n",
    "She said, \"こんにちは\"\n",
    "She said, \"Pardon my French\"\n",
    "I said, \"Bonjour, madame\"\n",
    "Then she said, \"Sak pasé?\"\n",
    "And I said, \"N'ap boule\"\n",
    "No matter where I go, you know I love 'em all\n",
    "        \"\"\"\n",
    "    )\n",
    "\n",
    "loop = asyncio.get_event_loop()\n",
    "loop.run_until_complete(test_text())"
   ],
   "outputs": [],
   "execution_count": 17
  },
  {
   "cell_type": "code",
   "metadata": {
    "ExecuteTime": {
     "end_time": "2025-01-03T18:47:42.966884Z",
     "start_time": "2025-01-03T18:47:41.750047Z"
    }
   },
   "source": [
    "import asyncio\n",
    "async def test_sticker():\n",
    "    \"\"\"Prueba el envío de sticker\"\"\"\n",
    "    api = EvolutionAPI()\n",
    "    sticker= STICKERS[\"greeting\"]\n",
    "    return await api.send_sticker(TEST_PHONE_NUMBER, sticker)\n",
    "loop = asyncio.get_event_loop()\n",
    "loop.run_until_complete(test_sticker())"
   ],
   "outputs": [],
   "execution_count": 18
  },
  {
   "cell_type": "code",
   "metadata": {
    "ExecuteTime": {
     "end_time": "2025-01-03T18:47:43.541922Z",
     "start_time": "2025-01-03T18:47:42.972172Z"
    }
   },
   "source": [
    "import asyncio\n",
    "async def test_location():\n",
    "    \"\"\"Prueba el envío de ubicación\"\"\"\n",
    "    api = EvolutionAPI()\n",
    "    return await api.send_location_by_sede(\n",
    "        TEST_PHONE_NUMBER, \n",
    "        \"lima_pucp\"  \n",
    "    )\n",
    "loop = asyncio.get_event_loop()\n",
    "loop.run_until_complete(test_location())"
   ],
   "outputs": [],
   "execution_count": 19
  },
  {
   "cell_type": "code",
   "execution_count": 48,
   "metadata": {},
   "outputs": [],
   "source": [
    "import nest_asyncio\n",
    "import asyncio\n",
    "nest_asyncio.apply()\n",
    "async def test_image(caption:str):\n",
    "    \"\"\"Prueba el envío de imagen\"\"\"\n",
    "    api = EvolutionAPI()\n",
    "    image_url = \"https://instagram.flim19-1.fna.fbcdn.net/v/t51.29350-15/422779974_7225476397475549_8279452873712387495_n.jpg?stp=dst-jpg_e35_tt6&efg=eyJ2ZW5jb2RlX3RhZyI6ImltYWdlX3VybGdlbi4xMDgweDEwODAuc2RyLmYyOTM1MC5kZWZhdWx0X2ltYWdlIn0&_nc_ht=instagram.flim19-1.fna.fbcdn.net&_nc_cat=105&_nc_oc=Q6cZ2AFrWMgddlnvlksnB6q-l33A0yJ7ZJSgDXP3ZX-yDl9R9_9MuWOQ4kFx226xnLbpqwk&_nc_ohc=sOgxzjazWDIQ7kNvgF70kJq&_nc_gid=54a1463218fa4b2fbe8865780810a6f0&edm=APoiHPcBAAAA&ccb=7-5&ig_cache_key=MzI4OTg1NjA5NDY2NTU1MzcyNQ%3D%3D.3-ccb7-5&oh=00_AYAZCw4UF18aOo7BPaIKa24Bbg2nji3WsRheJvZlf-bJgw&oe=677A8CB0&_nc_sid=22de04\"\n",
    "    caption = \"Inscribete AHORA\"\n",
    "    return await api.send_image(TEST_PHONE_NUMBER, image_url, caption)\n",
    "loop = asyncio.get_event_loop()\n",
    "loop.run_until_complete(test_image())"
   ]
  },
  {
   "cell_type": "code",
   "execution_count": 49,
   "metadata": {},
   "outputs": [],
   "source": [
    "import asyncio\n",
    "async def test_video():\n",
    "    \"\"\"Prueba el envío de video\"\"\"\n",
    "    api = EvolutionAPI()\n",
    "    video_url = \"https://evolution-api.com/files/video.mp4\"\n",
    "    caption = \"Inscribete AHORA\"\n",
    "    return await api.send_video(TEST_PHONE_NUMBER, video_url, caption)\n",
    "loop = asyncio.get_event_loop()\n",
    "loop.run_until_complete(test_video())"
   ]
  },
  {
   "cell_type": "code",
   "execution_count": null,
   "metadata": {},
   "outputs": [],
   "source": [
    "import asyncio\n",
    "async def test_document():\n",
    "    \"\"\"Prueba el envío de documento\"\"\"\n",
    "    api = EvolutionAPI()\n",
    "    document_url = \"https://file.notion.so/f/f/caf648c4-75f9-45b6-9ec5-e48de96c371b/086855af-76e3-45d9-87cb-e1cd79903c2d/transaccion.pdf?table=block&id=10a8e516-2b55-4b36-b5fd-2e06ac6a910d&spaceId=caf648c4-75f9-45b6-9ec5-e48de96c371b&expirationTimestamp=1735862400000&signature=8DXUxHvZX_aeUoa6ZZvzGwOx_QxKJbJYIStYHgQCgMA&downloadName=transaccion.pdf\"\n",
    "    caption = \"BASES 2024\"\n",
    "    fileName = \"BASES 2024.pdf\"\n",
    "    return await api.send_document(TEST_PHONE_NUMBER, document_url, caption, fileName)\n",
    "loop = asyncio.get_event_loop()\n",
    "loop.run_until_complete(test_document())"
   ]
  },
  {
   "cell_type": "code",
   "execution_count": 50,
   "metadata": {},
   "outputs": [],
   "source": [
    "import asyncio\n",
    "async def test_contact():\n",
    "    \"\"\"Prueba el envío de contacto\"\"\"\n",
    "    api = EvolutionAPI()\n",
    "    contact = \"51932607107\"\n",
    "    contact_name = \"Robert Quispe\"\n",
    "    return await api.send_contact(TEST_PHONE_NUMBER, contact_name, contact)\n",
    "loop = asyncio.get_event_loop()\n",
    "loop.run_until_complete(test_contact())"
   ]
  },
  {
   "cell_type": "code",
   "execution_count": 51,
   "metadata": {},
   "outputs": [],
   "source": [
    "import asyncio\n",
    "async def test_list():\n",
    "    \"\"\"Prueba el envío de lista\"\"\"\n",
    "    api = EvolutionAPI()\n",
    "    return await api.send_list(\n",
    "        number=TEST_PHONE_NUMBER,  \n",
    "        universities=SEDES_CONFIG\n",
    "    )\n",
    "\n",
    "# Ejecución\n",
    "loop = asyncio.get_event_loop()\n",
    "loop.run_until_complete(test_list())\n"
   ]
  }
 ],
 "metadata": {
  "kernelspec": {
   "display_name": "Python 3",
   "language": "python",
   "name": "python3"
  },
  "language_info": {
   "codemirror_mode": {
    "name": "ipython",
    "version": 3
   },
   "file_extension": ".py",
   "mimetype": "text/x-python",
   "name": "python",
   "nbconvert_exporter": "python",
   "pygments_lexer": "ipython3",
   "version": "3.11.0"
  }
 },
 "nbformat": 4,
 "nbformat_minor": 2
}
